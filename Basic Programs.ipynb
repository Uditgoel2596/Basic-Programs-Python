{
 "cells": [
  {
   "cell_type": "code",
   "execution_count": 10,
   "id": "784ee2ec-f60f-4582-9a96-95c9033fd9a4",
   "metadata": {},
   "outputs": [
    {
     "name": "stdin",
     "output_type": "stream",
     "text": [
      "Please enter the radius of circle in cm: 20\n"
     ]
    },
    {
     "name": "stdout",
     "output_type": "stream",
     "text": [
      "The area of circle with radius 20 cm is 1256.0 cm²\n"
     ]
    }
   ],
   "source": [
    "#1 Program to find the area of a circle, taking input from user for the radius.\n",
    "\n",
    "Rad = int(input(\"Please enter the radius of circle in cm:\"))\n",
    "area = 3.14*(Rad**2)\n",
    "print(\"The area of circle with radius\",Rad,\"cm is\",area,\"cm\\u00b2\")"
   ]
  },
  {
   "cell_type": "code",
   "execution_count": null,
   "id": "540e356f-2119-4b7c-86d8-5e8dbb498c93",
   "metadata": {},
   "outputs": [],
   "source": []
  },
  {
   "cell_type": "code",
   "execution_count": 13,
   "id": "5919e9d6-d45d-42ca-a311-71f5e7275b97",
   "metadata": {},
   "outputs": [
    {
     "name": "stdin",
     "output_type": "stream",
     "text": [
      "Please enter your First Name: Udit\n",
      "Please enter your Middle Name: \n",
      "Please enter your Last Name: Goel\n",
      "Please enter your Roll No: 2914018\n",
      "Please enter your Class: B.Tech 1st Year\n",
      "Please enter your Blood Group: B+\n"
     ]
    },
    {
     "name": "stdout",
     "output_type": "stream",
     "text": [
      "\n",
      "\n",
      "Full Name: Udit  Goel\n",
      "Roll No: 2914018\n",
      "Class: B.Tech 1st Year\n",
      "Blood Group: B+\n"
     ]
    }
   ],
   "source": [
    "#2 Form where we ask about different details from the student in order to create their id card. \n",
    "\n",
    "fname = input(\"Please enter your First Name:\")\n",
    "mname = input(\"Please enter your Middle Name:\")\n",
    "lname = input(\"Please enter your Last Name:\")\n",
    "rno = int(input(\"Please enter your Roll No:\"))\n",
    "cla = input(\"Please enter your Class:\")\n",
    "bgr = input(\"Please enter your Blood Group:\")\n",
    "print()\n",
    "print()\n",
    "print(\"Full Name:\",fname,mname,lname)\n",
    "print(\"Roll No:\",rno)\n",
    "print(\"Class:\",cla)\n",
    "print(\"Blood Group:\",bgr)\n",
    "\n"
   ]
  },
  {
   "cell_type": "code",
   "execution_count": null,
   "id": "0b81d3a4-ccc9-4868-ad11-16cb67619235",
   "metadata": {},
   "outputs": [],
   "source": []
  },
  {
   "cell_type": "code",
   "execution_count": 14,
   "id": "b35d9152-5bd0-48b3-a366-c6457d8ae6bc",
   "metadata": {},
   "outputs": [
    {
     "name": "stdin",
     "output_type": "stream",
     "text": [
      "Please enter the no, you want cube of: 4\n"
     ]
    },
    {
     "name": "stdout",
     "output_type": "stream",
     "text": [
      "The cube of 4 is 64\n"
     ]
    }
   ],
   "source": [
    "#3 Program to find the cube of any no as asked by the user. \n",
    "\n",
    "no = int(input(\"Please enter the no, you want cube of:\"))\n",
    "cube = no**3\n",
    "print(\"The cube of {} is {}\".format(no,cube))"
   ]
  },
  {
   "cell_type": "code",
   "execution_count": null,
   "id": "aec4aec3-f88a-400b-8fb2-dc59a6c2c7a8",
   "metadata": {},
   "outputs": [],
   "source": []
  },
  {
   "cell_type": "code",
   "execution_count": 16,
   "id": "0134b578-f8a9-4d15-829f-d4782992ed1a",
   "metadata": {},
   "outputs": [
    {
     "name": "stdout",
     "output_type": "stream",
     "text": [
      "The sum of x and y is 100\n"
     ]
    }
   ],
   "source": [
    "#4 x = 56 and y = \"44\". Program to display sum of both the variables. \n",
    "\n",
    "x= 56\n",
    "y= int(44)\n",
    "print(\"The sum of x and y is\",x+y)"
   ]
  },
  {
   "cell_type": "code",
   "execution_count": null,
   "id": "9b9232a8-7278-42a4-945e-1b2814cabc33",
   "metadata": {},
   "outputs": [],
   "source": []
  },
  {
   "cell_type": "code",
   "execution_count": 5,
   "id": "01c3d37e-c911-4d13-8615-413bdb05a447",
   "metadata": {},
   "outputs": [
    {
     "name": "stdin",
     "output_type": "stream",
     "text": [
      "Please enter the no you want to check if +ive or -ive: -56\n"
     ]
    },
    {
     "name": "stdout",
     "output_type": "stream",
     "text": [
      "-56 is Negative no.\n"
     ]
    }
   ],
   "source": [
    "#5 Program to check if a number is positive or negative.\n",
    "\n",
    "no = int(input(\"Please enter the no you want to check if +ive or -ive:\"))\n",
    "if no>0:\n",
    "    print(no,\"is Positive no.\")\n",
    "elif no==0:\n",
    "    print(\"0 is Neutral no.\")\n",
    "else:\n",
    "    print(no,\"is Negative no.\")"
   ]
  },
  {
   "cell_type": "code",
   "execution_count": null,
   "id": "17ecb197-9a21-4992-8929-8c2edbe8e63e",
   "metadata": {},
   "outputs": [],
   "source": []
  },
  {
   "cell_type": "code",
   "execution_count": 8,
   "id": "fb47c400-6054-42a7-8361-bd067a31a6b7",
   "metadata": {},
   "outputs": [
    {
     "name": "stdin",
     "output_type": "stream",
     "text": [
      "Please enter the no to check whether odd or even: 45\n"
     ]
    },
    {
     "name": "stdout",
     "output_type": "stream",
     "text": [
      "45 is Odd no.\n"
     ]
    }
   ],
   "source": [
    "#6 Program to check if a number is odd or even?\n",
    "\n",
    "no = int(input(\"Please enter the no to check whether odd or even:\"))\n",
    "if no%2 == 0:\n",
    "    print(no,\"is Even no.\")\n",
    "else:\n",
    "    print(no,\"is Odd no.\")"
   ]
  },
  {
   "cell_type": "code",
   "execution_count": null,
   "id": "de48c231-8f0f-4123-bed8-38689da2fc12",
   "metadata": {},
   "outputs": [],
   "source": []
  },
  {
   "cell_type": "code",
   "execution_count": 11,
   "id": "747c176b-79dc-4498-9176-3e7989b65dff",
   "metadata": {},
   "outputs": [
    {
     "name": "stdin",
     "output_type": "stream",
     "text": [
      "Please enter the no to check no of digits(maximum 5): 2456\n"
     ]
    },
    {
     "name": "stdout",
     "output_type": "stream",
     "text": [
      "2456 is 4 Digit No.\n"
     ]
    }
   ],
   "source": [
    "#7 Program to check if the number given by the user is 1 digit number or 2 digit number upto 5 digits.\n",
    "\n",
    "no = int(input(\"Please enter the no to check no of digits(maximum 5):\"))\n",
    "if no >=0 and no<10:\n",
    "    print(no,\"is 1 Digit No.\")\n",
    "elif no>=10 and no<100:\n",
    "    print(no,\"is 2 Digit No.\")\n",
    "elif no>=100 and no<1000:\n",
    "    print(no,\"is 3 Digit No.\")\n",
    "elif no>=1000 and no<10000:\n",
    "    print(no,\"is 4 Digit No.\")\n",
    "elif no>=10000 and no<100000:\n",
    "    print(no,\"is 5 Digit No.\")\n",
    "else:\n",
    "    print(\"Incorrect Input.... Try Again!\")\n"
   ]
  },
  {
   "cell_type": "code",
   "execution_count": null,
   "id": "c44ad39b-1fac-45d9-a52a-ee22e4584ad1",
   "metadata": {},
   "outputs": [],
   "source": []
  },
  {
   "cell_type": "code",
   "execution_count": 20,
   "id": "9a497417-5e7f-4591-ad48-06dd6bb91a03",
   "metadata": {},
   "outputs": [
    {
     "name": "stdin",
     "output_type": "stream",
     "text": [
      "Please enter the First No: 30\n",
      "Please enter the Second No: 15\n",
      "Please enter the operator (+,-,*,/): /\n"
     ]
    },
    {
     "name": "stdout",
     "output_type": "stream",
     "text": [
      "Division of 30.0 and 15.0 is 2.0\n"
     ]
    }
   ],
   "source": [
    "#8 Program of a Basic Calculator (+,-,*,/).\n",
    "\n",
    "no1 = float(input(\"Please enter the First No:\"))\n",
    "no2 = float(input(\"Please enter the Second No:\"))\n",
    "op = input(\"Please enter the operator (+,-,*,/):\")\n",
    "if op == \"+\":\n",
    "    print(\"Sum of {} and {} is {}\".format(no1,no2,no1+no2))\n",
    "elif op == \"-\":\n",
    "    print(\"Subtraction of {} and {} is {}\".format(no1,no2,no1-no2))\n",
    "elif op == \"*\":\n",
    "    print(\"Multiplication of {} and {} is {}\".format(no1,no2,no1*no2))\n",
    "elif op == \"/\":\n",
    "    print(\"Division of {} and {} is {}\".format(no1,no2,no1/no2))\n",
    "else:\n",
    "    print(\"Incorrect Operator.. Try Aagain!\")"
   ]
  },
  {
   "cell_type": "code",
   "execution_count": null,
   "id": "7965628d-03c7-4400-9665-4c0fa0138e15",
   "metadata": {},
   "outputs": [],
   "source": []
  },
  {
   "cell_type": "code",
   "execution_count": 28,
   "id": "cf1c0dd2-86dc-4480-a545-83e068b469ba",
   "metadata": {},
   "outputs": [
    {
     "name": "stdin",
     "output_type": "stream",
     "text": [
      "Please enter the no to check if divisible by 6 and 9: 36\n"
     ]
    },
    {
     "name": "stdout",
     "output_type": "stream",
     "text": [
      "Yes, 36 is Divisible by both 6 and 9.\n"
     ]
    }
   ],
   "source": [
    "#9 Program to check if number is divisible by both 6 and 9. Taking an input from user for the number.\n",
    "\n",
    "no = int(input(\"Please enter the no to check if divisible by 6 and 9:\"))\n",
    "if no%6 == 0 and no%9 == 0:\n",
    "    print(\"Yes,\",no,\"is Divisible by both 6 and 9.\")\n",
    "elif no%6 == 0 and no%9 != 0:\n",
    "    print(\"No,\",no,\"is only Divisible by 6 and not by 9.\")\n",
    "elif no%6 != 0 and no%9 == 0:\n",
    "    print(\"No,\",no,\"is only Divisible by 9 and not by 6.\")\n",
    "else:\n",
    "    print(\"No,\",no,\"is neither Divisible by 6 and nor by 9.\")"
   ]
  },
  {
   "cell_type": "code",
   "execution_count": null,
   "id": "c2554d89-adee-4f94-8d68-007e1a520ebe",
   "metadata": {},
   "outputs": [],
   "source": []
  },
  {
   "cell_type": "code",
   "execution_count": 31,
   "id": "bfeecce5-6f4e-468e-bfa1-2b77ccfa9c5c",
   "metadata": {},
   "outputs": [
    {
     "name": "stdin",
     "output_type": "stream",
     "text": [
      "Please Enter your age to check Eligibility for Vote: 24\n"
     ]
    },
    {
     "name": "stdout",
     "output_type": "stream",
     "text": [
      "You are eligible to vote.\n"
     ]
    }
   ],
   "source": [
    "#10 Program where we take age as an input from the user and identify if the person is eligible to vote or not.\n",
    "\n",
    "age = int(input(\"Please Enter your age to check Eligibility for Vote:\"))\n",
    "if age<18:\n",
    "    print(\"Sorry, you are not eligible to vote for now.\")\n",
    "elif age>=18:\n",
    "    print(\"You are eligible to vote.\")\n",
    "else:\n",
    "    print(\"Incorrect Input.. Try Again!\")\n",
    "    "
   ]
  },
  {
   "cell_type": "code",
   "execution_count": null,
   "id": "abeecb00-ca3d-4264-89f8-19d1530fafa8",
   "metadata": {},
   "outputs": [],
   "source": []
  },
  {
   "cell_type": "code",
   "execution_count": 47,
   "id": "65e16c8c-7c4f-453b-95b7-34425bf1776f",
   "metadata": {},
   "outputs": [
    {
     "name": "stdin",
     "output_type": "stream",
     "text": [
      "Press 1 to find the area of Square\n",
      "Press 2 to find the area of Rectangle\n",
      "Press 3 to find the area of Circle\n",
      "Press 4 to find the area of Triangle\n",
      " 2\n",
      "Please enter the Length of Rectangle in cm: 20\n",
      "Please enter the Breadth of Rectangle in cm: 30\n"
     ]
    },
    {
     "name": "stdout",
     "output_type": "stream",
     "text": [
      "\n",
      "Area of Rectangle with length 20.0 cm and breadth 30.0 cm is 600.0 cm²\n"
     ]
    }
   ],
   "source": [
    "#11 Program to create area calculator for Square, Rectangle, Circle and Triangle.\n",
    "\n",
    "no = int(input(\"\"\"Press 1 to find the area of Square\n",
    "Press 2 to find the area of Rectangle\n",
    "Press 3 to find the area of Circle\n",
    "Press 4 to find the area of Triangle\n",
    "\"\"\"))\n",
    "\n",
    "if no == 1:\n",
    "    side = float(input(\"Please enter the Side of Square in cm: \"))\n",
    "    areas=side**2\n",
    "    print()\n",
    "    print(\"Area of Square with side\",side,\"cm is\",areas,\"cm\\u00b2\")\n",
    "elif no == 2:\n",
    "    leng = float(input(\"Please enter the Length of Rectangle in cm:\"))\n",
    "    bread = float(input(\"Please enter the Breadth of Rectangle in cm:\"))\n",
    "    arear = leng*bread\n",
    "    print()\n",
    "    print(\"Area of Rectangle with length\",leng,\"cm and breadth\",bread,\"cm is\",arear,\"cm\\u00b2\")\n",
    "elif no == 3:\n",
    "    rad = float(input(\"Please enter the Radius of Circle in cm:\"))\n",
    "    areac = 3.14*(rad**2)\n",
    "    print()\n",
    "    print(\"Area of Circle with radius\",rad,\"cm is\",areac,\"cm\\u00b2\")\n",
    "elif no == 4:\n",
    "    base = float(input(\"Please enter the Base of Triangle in cm:\"))\n",
    "    height = float (input(\"Please enter the Height of Triangle in cm:\"))\n",
    "    areat = 0.5*(base*height)\n",
    "    print()\n",
    "    print(\"Area of Triangle with base\",base,\"and height\",height,\"cm is\",areat,\"cm\\u00b2\")\n",
    "else:\n",
    "    print(\"Incorrect Input..Try Again!\") \n"
   ]
  },
  {
   "cell_type": "code",
   "execution_count": null,
   "id": "66db612c-1ea6-414e-9902-4b5ffc1f7ef0",
   "metadata": {},
   "outputs": [],
   "source": []
  },
  {
   "cell_type": "code",
   "execution_count": 52,
   "id": "5c548202-2de3-44d1-beee-e0dc3f68bc4f",
   "metadata": {},
   "outputs": [
    {
     "name": "stdin",
     "output_type": "stream",
     "text": [
      "Please enter the Distance in Feet: 20\n"
     ]
    },
    {
     "name": "stdout",
     "output_type": "stream",
     "text": [
      "\n"
     ]
    },
    {
     "name": "stdin",
     "output_type": "stream",
     "text": [
      "Press 1 to convert the distance from Feet to Inches:\n",
      "Press 2 to convert the distance from Feet to Yards \n",
      "Press 3 to convert the distance from Feet to Miles\n",
      " 3\n"
     ]
    },
    {
     "name": "stdout",
     "output_type": "stream",
     "text": [
      "\n",
      "Distance in Miles: 0.003787878787878788\n"
     ]
    }
   ],
   "source": [
    "#12 Program to convert the distance (in feet) to inches, yards, and miles.\n",
    "\n",
    "dist = float(input(\"Please enter the Distance in Feet:\"))\n",
    "print()\n",
    "no = int(input(\"\"\"Press 1 to convert the distance from Feet to Inches:\n",
    "Press 2 to convert the distance from Feet to Yards \n",
    "Press 3 to convert the distance from Feet to Miles\n",
    "\"\"\"))\n",
    "print()\n",
    "if no == 1:\n",
    "    print(\"Distance in Inches:\",dist*12)\n",
    "elif no == 2:\n",
    "    print(\"Distance in Yards:\",dist/3)\n",
    "elif no == 3:\n",
    "    print(\"Distance in Miles:\",dist/5280)\n",
    "else:\n",
    "    print(\"Incorrect Input..Try Again!\")\n",
    "      "
   ]
  },
  {
   "cell_type": "code",
   "execution_count": null,
   "id": "d4359a10-4f34-478a-a4d2-fcb4c2a3ab6c",
   "metadata": {},
   "outputs": [],
   "source": []
  },
  {
   "cell_type": "code",
   "execution_count": 54,
   "id": "54572c49-252a-4b16-8246-6c13841631c5",
   "metadata": {},
   "outputs": [
    {
     "name": "stdin",
     "output_type": "stream",
     "text": [
      "Please enter the First Number you want to divide: 21\n",
      "Please enter the Second Number from whom you want to divide: 2\n"
     ]
    },
    {
     "name": "stdout",
     "output_type": "stream",
     "text": [
      "\n",
      "21 is not divisible by 2\n"
     ]
    }
   ],
   "source": [
    "#13 Program to check whether a number is divisible by another number. Accepting two integer’s values form the user.\n",
    "\n",
    "no1 = int(input(\"Please enter the First Number you want to divide:\"))\n",
    "no2 = int(input(\"Please enter the Second Number from whom you want to divide:\"))\n",
    "print()\n",
    "if no1%no2 == 0:\n",
    "    print(no1,\"is divisible by\",no2)\n",
    "else:\n",
    "    print(\"{} is not divisible by {}\".format(no1,no2))"
   ]
  },
  {
   "cell_type": "code",
   "execution_count": null,
   "id": "53876eb6-8603-4d82-aa64-24087287bd5a",
   "metadata": {},
   "outputs": [],
   "source": []
  },
  {
   "cell_type": "code",
   "execution_count": 59,
   "id": "ee573b82-4d38-481a-9585-11aff88586e6",
   "metadata": {},
   "outputs": [
    {
     "name": "stdin",
     "output_type": "stream",
     "text": [
      "Please enter the alphabet to check whether Vowel or Consonant: t\n"
     ]
    },
    {
     "name": "stdout",
     "output_type": "stream",
     "text": [
      "t is a Consonant.\n"
     ]
    }
   ],
   "source": [
    "#14 Program to check whether an alphabet is a vowel or consonant.\n",
    "\n",
    "alp = input(\"Please enter the alphabet to check whether Vowel or Consonant:\")\n",
    "if alp in (\"a\",\"e\",\"i\",\"o\",\"u\"):\n",
    "    print(alp,\"is a Vowel.\")\n",
    "else:\n",
    "    print(alp,\"is a Consonant.\")"
   ]
  },
  {
   "cell_type": "code",
   "execution_count": null,
   "id": "f55be08d-46c8-421f-8831-e40329a2182f",
   "metadata": {},
   "outputs": [],
   "source": []
  },
  {
   "cell_type": "code",
   "execution_count": 64,
   "id": "a6b86217-582f-443a-93d7-4e266366a0fb",
   "metadata": {},
   "outputs": [
    {
     "name": "stdin",
     "output_type": "stream",
     "text": [
      "Please enter the Number, you want Table of: 5\n"
     ]
    },
    {
     "name": "stdout",
     "output_type": "stream",
     "text": [
      "5 * 1 = 5\n",
      "5 * 2 = 10\n",
      "5 * 3 = 15\n",
      "5 * 4 = 20\n",
      "5 * 5 = 25\n",
      "5 * 6 = 30\n",
      "5 * 7 = 35\n",
      "5 * 8 = 40\n",
      "5 * 9 = 45\n",
      "5 * 10 = 50\n"
     ]
    }
   ],
   "source": [
    "#15 Program to print multiplication table of any given number in the format(12 x 1 = 12).\n",
    "\n",
    "no = int(input(\"Please enter the Number, you want Table of:\"))\n",
    "for i in range(1,11):\n",
    "    print(\"{} * {} = {}\".format(no,i,no*i))\n",
    "    "
   ]
  },
  {
   "cell_type": "code",
   "execution_count": null,
   "id": "0958791d-7736-4d70-b255-3ecbdc92e053",
   "metadata": {},
   "outputs": [],
   "source": []
  },
  {
   "cell_type": "code",
   "execution_count": 65,
   "id": "733c3103-1dfe-45f5-a218-148036d5f87d",
   "metadata": {},
   "outputs": [
    {
     "name": "stdout",
     "output_type": "stream",
     "text": [
      "-10\n",
      "-9\n",
      "-8\n",
      "-7\n",
      "-6\n",
      "-5\n",
      "-4\n",
      "-3\n",
      "-2\n",
      "-1\n"
     ]
    }
   ],
   "source": [
    "#16 Program to display numbers from -10 to -1.  \n",
    "\n",
    "for i in range(-10,0,1):\n",
    "    print(i)"
   ]
  },
  {
   "cell_type": "code",
   "execution_count": null,
   "id": "62084529-60dd-4125-84b8-6ffaea3db63b",
   "metadata": {},
   "outputs": [],
   "source": []
  },
  {
   "cell_type": "code",
   "execution_count": 68,
   "id": "3d6b03af-0f05-4344-8a5e-fde3e08dd8fd",
   "metadata": {},
   "outputs": [
    {
     "name": "stdin",
     "output_type": "stream",
     "text": [
      "Please enter the Number, you want Factorial of: 5\n"
     ]
    },
    {
     "name": "stdout",
     "output_type": "stream",
     "text": [
      "\n",
      "Factorial of 5 is 120.\n"
     ]
    }
   ],
   "source": [
    "#17 Program to find the factorial of any given number. \n",
    "\n",
    "fact = 1\n",
    "no = int(input(\"Please enter the Number, you want Factorial of:\"))\n",
    "for i in range(no,1,-1):\n",
    "    fact = fact*i\n",
    "print()\n",
    "print(\"Factorial of {} is {}.\".format(no,fact))\n",
    "         "
   ]
  },
  {
   "cell_type": "code",
   "execution_count": null,
   "id": "6a37302b-710e-415e-8fd1-54609b34f4b2",
   "metadata": {},
   "outputs": [],
   "source": []
  },
  {
   "cell_type": "code",
   "execution_count": 69,
   "id": "38c000f0-7140-45cf-b6ce-d4b338797ff3",
   "metadata": {},
   "outputs": [
    {
     "name": "stdout",
     "output_type": "stream",
     "text": [
      "civic\n",
      "madam\n"
     ]
    }
   ],
   "source": [
    "#18 Program to print words with more than 5 words and whose first and last letter is same.\n",
    " \n",
    "a = [\"civic\",\"madam\",\"class\",\"jupiter\",\"mom\"]\n",
    "for i in a:\n",
    "    if len(i) >=5: \n",
    "        if i[0]==i[-1]:\n",
    "            print(i)"
   ]
  },
  {
   "cell_type": "code",
   "execution_count": null,
   "id": "5be57c04-0b5c-4d8c-a281-7ae445eb99c5",
   "metadata": {},
   "outputs": [],
   "source": []
  },
  {
   "cell_type": "code",
   "execution_count": 70,
   "id": "a3e6d070-088e-48f3-b37e-b104595f2c42",
   "metadata": {},
   "outputs": [
    {
     "name": "stdout",
     "output_type": "stream",
     "text": [
      "[4, 8, 2, 4, 6]\n",
      "[7, 3, 47, 5, 7, 3, 3, 7, 9]\n"
     ]
    }
   ],
   "source": [
    "#19 Program to add even no in one list and odd in another list.\n",
    "\n",
    "a = [4,8,7,3,47,2,5,7,4,3,3,6,7,9]\n",
    "\n",
    "even = []\n",
    "odd = []\n",
    "\n",
    "for i in a:\n",
    "    if i%2 == 0:\n",
    "        even.append(i)\n",
    "    else i%2 != 0:\n",
    "        odd.append(i)\n",
    "\n",
    "print(even)\n",
    "print(odd)"
   ]
  },
  {
   "cell_type": "code",
   "execution_count": null,
   "id": "bfec539a-a9c5-46de-afc8-4da3bc09f435",
   "metadata": {},
   "outputs": [],
   "source": []
  },
  {
   "cell_type": "code",
   "execution_count": 2,
   "id": "d407ecec-b6f6-4ce5-93ef-61a338be4a00",
   "metadata": {},
   "outputs": [
    {
     "name": "stdin",
     "output_type": "stream",
     "text": [
      "Please enter the string, you want to find length: Qwerty\n"
     ]
    },
    {
     "name": "stdout",
     "output_type": "stream",
     "text": [
      "The length of Qwerty is 6\n"
     ]
    }
   ],
   "source": [
    "#20 Program to find length of a string without using len() function.\n",
    "\n",
    "st = str(input(\"Please enter the string, you want to find length:\"))\n",
    "count = 0\n",
    "for i in st:\n",
    "    count=count+1\n",
    "\n",
    "print(\"The length of {} is {}\".format(st,count))"
   ]
  },
  {
   "cell_type": "code",
   "execution_count": null,
   "id": "c28d468d-c0cf-4eca-89cf-7fe23ae82c75",
   "metadata": {},
   "outputs": [],
   "source": []
  },
  {
   "cell_type": "code",
   "execution_count": 3,
   "id": "5f9a7e06-b6b9-4be3-9d74-5e7acda6dd80",
   "metadata": {},
   "outputs": [
    {
     "name": "stdin",
     "output_type": "stream",
     "text": [
      "Please enter the string: qwerty\n"
     ]
    },
    {
     "name": "stdout",
     "output_type": "stream",
     "text": [
      "QWErty\n"
     ]
    }
   ],
   "source": [
    "#21 Program to convert half of the string uppercase and rest half of string in lower case.\n",
    "\n",
    "st = str(input(\"Please enter the string:\"))\n",
    "count = 0\n",
    "for i in st:\n",
    "    count=count+1\n",
    "    z= count/2\n",
    "    z=int(z)\n",
    "print(st[0:z].upper()+st[z::].lower())"
   ]
  },
  {
   "cell_type": "code",
   "execution_count": null,
   "id": "c01626aa-611c-4f07-8fe3-f521b66a4e13",
   "metadata": {},
   "outputs": [],
   "source": []
  },
  {
   "cell_type": "code",
   "execution_count": 7,
   "id": "393b7bdb-aa88-459f-ba99-cd1ecb9d4977",
   "metadata": {},
   "outputs": [
    {
     "name": "stdin",
     "output_type": "stream",
     "text": [
      "Please enter the string: Programing\n",
      "Enter the character you want to count in string: r\n"
     ]
    },
    {
     "name": "stdout",
     "output_type": "stream",
     "text": [
      "r comes in string 2 times\n"
     ]
    }
   ],
   "source": [
    "#22 Program to count the number of any character occuring in the string without using count function.\n",
    "\n",
    "st = str(input(\"Please enter the string:\"))\n",
    "ch = str(input(\"Enter the character you want to count in string:\"))\n",
    "count = 0\n",
    "\n",
    "for i in st:\n",
    "    if ch==i:\n",
    "        count = count+1\n",
    "\n",
    "print(\"{} comes in string {} times\".format(ch,count))\n",
    "    "
   ]
  },
  {
   "cell_type": "code",
   "execution_count": null,
   "id": "e0a720d8-e678-41e2-8912-258707c76589",
   "metadata": {},
   "outputs": [],
   "source": []
  },
  {
   "cell_type": "code",
   "execution_count": 17,
   "id": "242256a3-8d4a-42c6-b4c6-a0ea937cf526",
   "metadata": {},
   "outputs": [
    {
     "name": "stdin",
     "output_type": "stream",
     "text": [
      "Please enter the string you want to reverse: Qwerty\n"
     ]
    },
    {
     "name": "stdout",
     "output_type": "stream",
     "text": [
      "ytrewQ\n"
     ]
    }
   ],
   "source": [
    "#23 Program to reverse any given string.\n",
    "\n",
    "st = str(input(\"Please enter the string you want to reverse:\"))\n",
    "print(st[-1::-1])\n",
    "\n"
   ]
  },
  {
   "cell_type": "code",
   "execution_count": null,
   "id": "54223012-c6bf-423b-8105-cb713a03c46c",
   "metadata": {},
   "outputs": [],
   "source": []
  },
  {
   "cell_type": "code",
   "execution_count": 20,
   "id": "6314042a-a90b-4a2f-b356-a53de20be2d3",
   "metadata": {},
   "outputs": [
    {
     "name": "stdout",
     "output_type": "stream",
     "text": [
      "['Banana', 'Orange', 'Apple']\n"
     ]
    }
   ],
   "source": [
    "#24 Program to interchange first and last elements in a list\n",
    "\n",
    "a = [\"Apple\",\"Orange\",\"Banana\"]\n",
    "b= a[0]\n",
    "a[0]=a[2]\n",
    "a[2] = b\n",
    "print(a)\n"
   ]
  },
  {
   "cell_type": "code",
   "execution_count": null,
   "id": "781ad1dc-baa1-4f78-bca1-38f42d99a7ab",
   "metadata": {},
   "outputs": [],
   "source": []
  },
  {
   "cell_type": "code",
   "execution_count": 28,
   "id": "4338e175-4e2d-4623-9cbd-1ef8887fda54",
   "metadata": {},
   "outputs": [
    {
     "name": "stdin",
     "output_type": "stream",
     "text": [
      "Please enter the element you want to check in list: Apple\n"
     ]
    },
    {
     "name": "stdout",
     "output_type": "stream",
     "text": [
      "Apple exist in list 2 times.\n"
     ]
    }
   ],
   "source": [
    "#25 Program to check if element exists in list\n",
    "\n",
    "a = [\"Apple\",\"Banana\",\"Orange\",\"Apple\"]\n",
    "el = str(input(\"Please enter the element you want to check in list:\"))\n",
    "count = 0\n",
    "for i in a:\n",
    "    if el == i:\n",
    "        count=count+1\n",
    "if count>0:        \n",
    "    print(\"{} exist in list {} times.\".format(el,count))\n",
    "else:\n",
    "    print(el,\"doses not exist in list.\")"
   ]
  },
  {
   "cell_type": "code",
   "execution_count": null,
   "id": "4a1fc09f-d547-471c-b37f-bce48f3e805e",
   "metadata": {},
   "outputs": [],
   "source": []
  },
  {
   "cell_type": "code",
   "execution_count": 32,
   "id": "eca659e1-6d29-4978-965e-9f74dbdfe65a",
   "metadata": {},
   "outputs": [
    {
     "name": "stdout",
     "output_type": "stream",
     "text": [
      "Sum of list is 120\n",
      "Average of list is 30.0\n"
     ]
    }
   ],
   "source": [
    "#26 Program to find sum and average of List.\n",
    "\n",
    "a = [10,20,40,50]\n",
    "sum = 0\n",
    "for i in a:\n",
    "    sum = sum+i\n",
    "    \n",
    "print(\"Sum of list is\",sum)\n",
    "print(\"Average of list is\",sum/len(a))"
   ]
  },
  {
   "cell_type": "code",
   "execution_count": null,
   "id": "514fa2f4-e2f6-4078-a748-624871d11857",
   "metadata": {},
   "outputs": [],
   "source": []
  },
  {
   "cell_type": "code",
   "execution_count": 39,
   "id": "4a754c70-c002-428d-847b-6a646064f627",
   "metadata": {},
   "outputs": [
    {
     "name": "stdout",
     "output_type": "stream",
     "text": [
      "Max number in the list is 70\n"
     ]
    }
   ],
   "source": [
    "#27 Program to find largest number in a list without using max()\n",
    "\n",
    "a = [50,40,70,20,30]\n",
    "a.sort(reverse = True)\n",
    "print(\"Max number in the list is\",a[0])"
   ]
  },
  {
   "cell_type": "code",
   "execution_count": null,
   "id": "f9774266-4b77-4ace-a157-e6a969d8d47b",
   "metadata": {},
   "outputs": [],
   "source": []
  },
  {
   "cell_type": "code",
   "execution_count": 41,
   "id": "33e00f6b-bdc3-4d13-a2a2-13ab8ded8a9b",
   "metadata": {},
   "outputs": [
    {
     "name": "stdout",
     "output_type": "stream",
     "text": [
      "42\n",
      "38\n"
     ]
    }
   ],
   "source": [
    "#28 Program to print even numbers in a list\n",
    "\n",
    "a = [53,42,71,23,38]\n",
    "for i in a:\n",
    "    if i%2 == 0:\n",
    "        print(i)\n",
    "\n"
   ]
  },
  {
   "cell_type": "code",
   "execution_count": null,
   "id": "473aa0cb-1009-4dd0-81e1-d33afa63e1e1",
   "metadata": {},
   "outputs": [],
   "source": []
  },
  {
   "cell_type": "code",
   "execution_count": 42,
   "id": "d08af680-8577-4771-a792-9cdbc8c8e52a",
   "metadata": {},
   "outputs": [
    {
     "name": "stdout",
     "output_type": "stream",
     "text": [
      "Total Positive no in list: 3\n",
      "Total Negative no in list: 2\n"
     ]
    }
   ],
   "source": [
    "#29 Program to count positive and negative numbers in a list\n",
    "\n",
    "a = [29,-14,56,35,-7]\n",
    "count1 = 0\n",
    "count2 = 0\n",
    "for i in a:\n",
    "    if i>=0:\n",
    "        count1 = count1+1\n",
    "    else:\n",
    "        count2 = count2+1\n",
    "print(\"Total Positive no in list:\",count1)\n",
    "print(\"Total Negative no in list:\",count2)"
   ]
  },
  {
   "cell_type": "code",
   "execution_count": null,
   "id": "7c9fe779-4073-4999-9411-d97d325534b6",
   "metadata": {},
   "outputs": [],
   "source": []
  },
  {
   "cell_type": "code",
   "execution_count": 46,
   "id": "c687114f-1bff-46b0-9e11-86fd6fd9a285",
   "metadata": {},
   "outputs": [
    {
     "name": "stdin",
     "output_type": "stream",
     "text": [
      "Enter the no you wnat to find Square Root of: 36\n"
     ]
    },
    {
     "name": "stdout",
     "output_type": "stream",
     "text": [
      "Sqare Root of 36 is 6.0\n"
     ]
    }
   ],
   "source": [
    "#30 Program to find the Square Root of a no.\n",
    "\n",
    "no = int(input(\"Enter the no you wnat to find Square Root of:\"))\n",
    "z= no**0.5\n",
    "print(\"Sqare Root of\",no,\"is\",z)"
   ]
  },
  {
   "cell_type": "code",
   "execution_count": null,
   "id": "316783e2-06a8-4342-9384-f97d681110f2",
   "metadata": {},
   "outputs": [],
   "source": []
  },
  {
   "cell_type": "code",
   "execution_count": 56,
   "id": "e8e6236c-e04d-499f-ba56-86b7b544725e",
   "metadata": {},
   "outputs": [
    {
     "name": "stdin",
     "output_type": "stream",
     "text": [
      "Please enter the year to check whether leap year or not: 2000\n"
     ]
    },
    {
     "name": "stdout",
     "output_type": "stream",
     "text": [
      "2000 is a leap year.\n"
     ]
    }
   ],
   "source": [
    "#31 Program to find whether the year is leap year or not.\n",
    "\n",
    "year = int(input(\"Please enter the year to check whether leap year or not:\"))\n",
    "if (year % 4 == 0 and year % 100 != 0) or year % 400 == 0:\n",
    "    print(year,\"is a leap year.\")\n",
    "else:\n",
    "    print(year,\"is not a leap year.\")"
   ]
  },
  {
   "cell_type": "code",
   "execution_count": null,
   "id": "101d153d-8a61-4493-91e8-5c9aa01db7a9",
   "metadata": {},
   "outputs": [],
   "source": []
  },
  {
   "cell_type": "code",
   "execution_count": 99,
   "id": "847c4f0c-5300-4d19-8f04-89345dfb0dc5",
   "metadata": {},
   "outputs": [
    {
     "name": "stdin",
     "output_type": "stream",
     "text": [
      "Please enter the number you want to check prime or not: 7\n"
     ]
    },
    {
     "name": "stdout",
     "output_type": "stream",
     "text": [
      "7 is a Prime no.\n"
     ]
    }
   ],
   "source": [
    "#32 Program to find whether the no is Prime no or not.\n",
    "\n",
    "no = int(input(\"Please enter the number you want to check prime or not:\"))\n",
    "for i in range(2,no,1):\n",
    "    if no%i==0:\n",
    "        print(no,\"is not a Prime no.\")\n",
    "        break\n",
    "else:\n",
    "    print(no,\"is a Prime no.\")\n",
    "        "
   ]
  },
  {
   "cell_type": "code",
   "execution_count": null,
   "id": "8a4ae300-abaa-4985-997c-153a203c59fc",
   "metadata": {},
   "outputs": [],
   "source": []
  },
  {
   "cell_type": "code",
   "execution_count": 100,
   "id": "20d92738-924f-4722-b91d-8d10f001943b",
   "metadata": {},
   "outputs": [
    {
     "name": "stdin",
     "output_type": "stream",
     "text": [
      "Please enter the lower limit: 20\n",
      "Please enter the uooer limit: 40\n"
     ]
    },
    {
     "name": "stdout",
     "output_type": "stream",
     "text": [
      "23\n",
      "29\n",
      "31\n",
      "37\n"
     ]
    }
   ],
   "source": [
    "#33 Program to find prime no in between range given by the user.\n",
    "\n",
    "ll = int(input(\"Please enter the lower limit:\"))\n",
    "ul = int(input(\"Please enter the uooer limit:\"))\n",
    "for i in range(ll,ul):\n",
    "    for y in range(i-1,1,-1):\n",
    "        if i%y==0:\n",
    "            break\n",
    "    else:\n",
    "        print(i)"
   ]
  },
  {
   "cell_type": "code",
   "execution_count": null,
   "id": "a2438a03-fe02-4eda-a4db-ff4e421481dc",
   "metadata": {},
   "outputs": [],
   "source": []
  },
  {
   "cell_type": "code",
   "execution_count": null,
   "id": "deca1e25-68e6-4fbd-a960-76904c4af592",
   "metadata": {},
   "outputs": [],
   "source": [
    "#34 Program to obtain Fibonacci Sequence.\n",
    "\n",
    "no = int(input(\"Enter a number to obtain Fibonacci Sequence:\"))\n",
    "a = 0\n",
    "b = 1\n",
    "c=0\n",
    "print(a)\n",
    "print(b)\n",
    "for i in range(2,no):\n",
    "    c=a+b\n",
    "    a=b\n",
    "    b=c\n",
    "    print(c)"
   ]
  },
  {
   "cell_type": "code",
   "execution_count": null,
   "id": "234f93b8-a86c-4787-932d-f2787fd150c0",
   "metadata": {},
   "outputs": [],
   "source": []
  },
  {
   "cell_type": "code",
   "execution_count": 107,
   "id": "1ac46559-93a7-47a4-8fee-f950374605ab",
   "metadata": {},
   "outputs": [
    {
     "name": "stdin",
     "output_type": "stream",
     "text": [
      "Please enter the no upto 3 digit: 372\n"
     ]
    },
    {
     "name": "stdout",
     "output_type": "stream",
     "text": [
      "372 is not an armstrong no.\n"
     ]
    }
   ],
   "source": [
    "#35 Program to check if no is Armstrong or not (153,370,371,407).\n",
    "\n",
    "no = int(input(\"Please enter the no upto 3 digits:\"))\n",
    "z=no%10\n",
    "y=z**3\n",
    "\n",
    "a=no-z\n",
    "b=a/10\n",
    "d=b%10\n",
    "c=d**3\n",
    "\n",
    "e=b-d\n",
    "f=e/10\n",
    "h=f**3\n",
    "\n",
    "\n",
    "i =(y+c+h)\n",
    "if i==no:\n",
    "    print(no,\"is an armstrong no.\")\n",
    "else:\n",
    "    print(no,\"is not an armstrong no.\")\n"
   ]
  },
  {
   "cell_type": "code",
   "execution_count": null,
   "id": "d6728471-9f2e-4444-8c41-261dfda6967e",
   "metadata": {},
   "outputs": [],
   "source": []
  },
  {
   "cell_type": "code",
   "execution_count": 108,
   "id": "ed2555b9-c43a-4c39-8551-e3195bc73f78",
   "metadata": {},
   "outputs": [
    {
     "name": "stdin",
     "output_type": "stream",
     "text": [
      "Please enter the no you want sum till: 15\n"
     ]
    },
    {
     "name": "stdout",
     "output_type": "stream",
     "text": [
      "120\n"
     ]
    }
   ],
   "source": [
    "#36 Sum of Natural No's till user want.\n",
    "\n",
    "no = int(input(\"Please enter the no you want sum till:\"))\n",
    "su =0 \n",
    "for i in range(0,no+1):\n",
    "    su=su+i\n",
    "\n",
    "print(su)"
   ]
  },
  {
   "cell_type": "code",
   "execution_count": null,
   "id": "4570d4db-d58c-45f7-bb0c-c1119dfcb419",
   "metadata": {},
   "outputs": [],
   "source": []
  },
  {
   "cell_type": "code",
   "execution_count": 110,
   "id": "3161299a-5ab1-433c-bc55-b9e32f0b64c2",
   "metadata": {},
   "outputs": [
    {
     "name": "stdin",
     "output_type": "stream",
     "text": [
      "Enter Decimal no here: 45\n"
     ]
    },
    {
     "name": "stdout",
     "output_type": "stream",
     "text": [
      "\n",
      "0b101110010 is Binary no of 45\n",
      "0o562 is Octal no of 45\n",
      "0x172 is Hexadecimal no of 45\n"
     ]
    }
   ],
   "source": [
    "#37 Program to Convert Decimal to Binary, Octal and Hexadecimal\n",
    "\n",
    "Dec = int(input(\"Enter Decimal no here:\"))\n",
    "print()\n",
    "print(bin(a),\"is Binary no of\",Dec)\n",
    "print(oct(a),\"is Octal no of\",Dec)\n",
    "print(hex(a),\"is Hexadecimal no of\",Dec)"
   ]
  },
  {
   "cell_type": "code",
   "execution_count": null,
   "id": "1017a555-4320-4b2c-b8f4-7aad4256e9f9",
   "metadata": {},
   "outputs": [],
   "source": []
  },
  {
   "cell_type": "code",
   "execution_count": 111,
   "id": "80a0ba40-ea06-4063-b154-b031e664e6dc",
   "metadata": {},
   "outputs": [
    {
     "name": "stdin",
     "output_type": "stream",
     "text": [
      "Enter First No: 12\n",
      "Enter Second No: 30\n"
     ]
    },
    {
     "name": "stdout",
     "output_type": "stream",
     "text": [
      "6 is the HCF of 12 and 30.\n"
     ]
    }
   ],
   "source": [
    "#38 Program to Find HCF of two numbers.\n",
    "\n",
    "a = int(input(\"Enter First No:\"))\n",
    "b = int(input(\"Enter Second No:\"))\n",
    "c=[]\n",
    "for i in range(2,min(a,b)+1):\n",
    "    if a%i == 0 and b%i == 0:\n",
    "        c.append(i)\n",
    "print(\"{} is the HCF of {} and {}.\".format(max(c),a,b))"
   ]
  },
  {
   "cell_type": "code",
   "execution_count": null,
   "id": "6ddee166-9c86-4bf4-915a-10f90a8fc166",
   "metadata": {},
   "outputs": [],
   "source": []
  },
  {
   "cell_type": "code",
   "execution_count": 3,
   "id": "e61ebfef-6d66-46e5-8b93-6dfdda506689",
   "metadata": {},
   "outputs": [
    {
     "name": "stdin",
     "output_type": "stream",
     "text": [
      "Please Enter the number you want to find factors of: 12\n"
     ]
    },
    {
     "name": "stdout",
     "output_type": "stream",
     "text": [
      "2\n",
      "3\n",
      "4\n",
      "6\n",
      "12\n"
     ]
    }
   ],
   "source": [
    "#39 Program to find factors of Number given by the user.\n",
    "\n",
    "no = int(input(\"Please Enter the number you want to find factors of:\"))\n",
    "for i in range(2,no+1):\n",
    "    if no%i==0:\n",
    "        print(i)"
   ]
  },
  {
   "cell_type": "code",
   "execution_count": null,
   "id": "a8564db9-913a-4e46-aae3-8bdd53ce962f",
   "metadata": {},
   "outputs": [],
   "source": []
  },
  {
   "cell_type": "code",
   "execution_count": 7,
   "id": "cc39ed5b-bcd3-41a8-9401-05134e5c8986",
   "metadata": {},
   "outputs": [
    {
     "name": "stdin",
     "output_type": "stream",
     "text": [
      "Please eneter the Year: 1996\n",
      "Please enter the Month in no(1-12): 2\n"
     ]
    },
    {
     "name": "stdout",
     "output_type": "stream",
     "text": [
      "\n",
      "   February 1996\n",
      "Mo Tu We Th Fr Sa Su\n",
      "          1  2  3  4\n",
      " 5  6  7  8  9 10 11\n",
      "12 13 14 15 16 17 18\n",
      "19 20 21 22 23 24 25\n",
      "26 27 28 29\n",
      "\n"
     ]
    }
   ],
   "source": [
    "#40 Program to Display Calendar.\n",
    "\n",
    "import calendar\n",
    "\n",
    "year = int(input(\"Please eneter the Year:\"))\n",
    "month = int(input(\"Please enter the Month in no(1-12):\"))\n",
    "\n",
    "calendar = calendar.month(year,month)\n",
    "print()\n",
    "print(calendar)"
   ]
  },
  {
   "cell_type": "code",
   "execution_count": null,
   "id": "5216aca8-175d-4037-b3c2-29231cbf65dc",
   "metadata": {},
   "outputs": [],
   "source": []
  },
  {
   "cell_type": "code",
   "execution_count": null,
   "id": "db78c146-c66b-4a03-ac84-5a767bdd6859",
   "metadata": {},
   "outputs": [],
   "source": [
    "#41 Program for Fibonacci Sequence using Recusrion.\n",
    "\n",
    "def fibo(n):\n",
    "    if n == 0:\n",
    "        return 0\n",
    "    elif n == 1:\n",
    "        return 1\n",
    "    else:\n",
    "        return fibo(n-1)+fibo(n-2)\n",
    "\n",
    "n=int(input(\"Enter Fibonacci Sequence: \"))\n",
    "for i in range(0,n):\n",
    "    print(fibo(i))\n"
   ]
  },
  {
   "cell_type": "code",
   "execution_count": null,
   "id": "79085bab-bc82-4813-b9eb-992bcafc5122",
   "metadata": {},
   "outputs": [],
   "source": []
  },
  {
   "cell_type": "code",
   "execution_count": null,
   "id": "fba7ba07-ea4e-4920-9b98-dd8a892c8c02",
   "metadata": {},
   "outputs": [],
   "source": []
  },
  {
   "cell_type": "code",
   "execution_count": null,
   "id": "b9236f94-a011-4db3-b628-7065a89ce8d4",
   "metadata": {},
   "outputs": [],
   "source": []
  },
  {
   "cell_type": "code",
   "execution_count": null,
   "id": "a86d36f8-df2c-4022-8c87-8352782970bf",
   "metadata": {},
   "outputs": [],
   "source": []
  },
  {
   "cell_type": "code",
   "execution_count": null,
   "id": "ef08fb99-e085-48ea-a23f-fbf084227790",
   "metadata": {},
   "outputs": [],
   "source": []
  },
  {
   "cell_type": "code",
   "execution_count": null,
   "id": "51d0862e-c3a2-4222-86b6-d3baf1d5408c",
   "metadata": {},
   "outputs": [],
   "source": []
  },
  {
   "cell_type": "code",
   "execution_count": null,
   "id": "ee300157-98e4-46c0-862e-6051c66fab1d",
   "metadata": {},
   "outputs": [],
   "source": []
  },
  {
   "cell_type": "code",
   "execution_count": null,
   "id": "f7711feb-6b82-455d-a559-7744ea02f9a7",
   "metadata": {},
   "outputs": [],
   "source": []
  },
  {
   "cell_type": "code",
   "execution_count": null,
   "id": "961a7aa2-0d1c-4241-93eb-1398fdcf730e",
   "metadata": {},
   "outputs": [],
   "source": []
  },
  {
   "cell_type": "code",
   "execution_count": null,
   "id": "5d2057cf-c1fa-4386-9733-4de247ba4de7",
   "metadata": {},
   "outputs": [],
   "source": []
  },
  {
   "cell_type": "code",
   "execution_count": null,
   "id": "c2a919d6-fcef-48c5-95df-716f092ac3a3",
   "metadata": {},
   "outputs": [],
   "source": []
  },
  {
   "cell_type": "code",
   "execution_count": null,
   "id": "fda5e9e6-7d58-4eb1-9e87-2bd0e884b334",
   "metadata": {},
   "outputs": [],
   "source": []
  },
  {
   "cell_type": "code",
   "execution_count": null,
   "id": "01edc785-acbe-42e1-9ba4-6ec962ac669e",
   "metadata": {},
   "outputs": [],
   "source": []
  },
  {
   "cell_type": "code",
   "execution_count": null,
   "id": "db1a44f5-dba3-44bc-bda1-7b1bbdc853bc",
   "metadata": {},
   "outputs": [],
   "source": []
  },
  {
   "cell_type": "code",
   "execution_count": null,
   "id": "c041fdde-e902-4411-9d9f-285e23228b21",
   "metadata": {},
   "outputs": [],
   "source": []
  },
  {
   "cell_type": "code",
   "execution_count": null,
   "id": "510aaec0-58bd-453d-a745-5c3f6af1303e",
   "metadata": {},
   "outputs": [],
   "source": []
  },
  {
   "cell_type": "code",
   "execution_count": null,
   "id": "2a8bfa3f-6f93-47e5-b5c7-d633984afd63",
   "metadata": {},
   "outputs": [],
   "source": []
  },
  {
   "cell_type": "code",
   "execution_count": null,
   "id": "e6f38a3a-fb39-4eab-8f71-69eddcc561a7",
   "metadata": {},
   "outputs": [],
   "source": []
  },
  {
   "cell_type": "code",
   "execution_count": null,
   "id": "9aedf1b8-a374-45ee-99b7-5bf93640f387",
   "metadata": {},
   "outputs": [],
   "source": []
  },
  {
   "cell_type": "code",
   "execution_count": null,
   "id": "b80ea17c-efc2-4eb7-b7e8-f6c3fd4b7eac",
   "metadata": {},
   "outputs": [],
   "source": []
  },
  {
   "cell_type": "code",
   "execution_count": null,
   "id": "527fae1c-04e5-4fdf-897e-ebc8cde4e2af",
   "metadata": {},
   "outputs": [],
   "source": []
  },
  {
   "cell_type": "code",
   "execution_count": null,
   "id": "12f56f76-3143-4a15-b492-69f0de65a8d4",
   "metadata": {},
   "outputs": [],
   "source": []
  },
  {
   "cell_type": "code",
   "execution_count": null,
   "id": "452fc40a-5505-4793-8339-8450ae454394",
   "metadata": {},
   "outputs": [],
   "source": []
  },
  {
   "cell_type": "code",
   "execution_count": null,
   "id": "7d00a0c5-d0d8-408f-bbcd-63ff1f5c5349",
   "metadata": {},
   "outputs": [],
   "source": []
  },
  {
   "cell_type": "code",
   "execution_count": null,
   "id": "98ef1737-bcec-4bfa-8ca0-cc5e5a465892",
   "metadata": {},
   "outputs": [],
   "source": []
  },
  {
   "cell_type": "code",
   "execution_count": null,
   "id": "465c297a-da57-4a3c-8e48-353a676b0655",
   "metadata": {},
   "outputs": [],
   "source": []
  },
  {
   "cell_type": "code",
   "execution_count": null,
   "id": "87ca1b17-bf85-4f75-80a3-d3da818b5c3a",
   "metadata": {},
   "outputs": [],
   "source": []
  },
  {
   "cell_type": "code",
   "execution_count": null,
   "id": "a7f2c76d-4102-441b-9ac9-ab775fefcedc",
   "metadata": {},
   "outputs": [],
   "source": []
  },
  {
   "cell_type": "code",
   "execution_count": null,
   "id": "944415e9-6f13-4dcd-a6e4-566751f7288c",
   "metadata": {},
   "outputs": [],
   "source": []
  },
  {
   "cell_type": "code",
   "execution_count": null,
   "id": "d9d06dbd-1fe9-4b42-886a-2ddb1ccaab7d",
   "metadata": {},
   "outputs": [],
   "source": []
  },
  {
   "cell_type": "code",
   "execution_count": null,
   "id": "a4f93efa-1295-47cd-931b-440a925ffa6a",
   "metadata": {},
   "outputs": [],
   "source": []
  },
  {
   "cell_type": "code",
   "execution_count": null,
   "id": "dc409187-60c4-4ef1-8adb-cb04b4372794",
   "metadata": {},
   "outputs": [],
   "source": []
  },
  {
   "cell_type": "code",
   "execution_count": null,
   "id": "5eac0752-7fd5-4d52-aaf7-58d5ce0cbe7e",
   "metadata": {},
   "outputs": [],
   "source": []
  },
  {
   "cell_type": "code",
   "execution_count": null,
   "id": "81d3949a-74be-441e-8c33-48f9dcf50576",
   "metadata": {},
   "outputs": [],
   "source": []
  },
  {
   "cell_type": "code",
   "execution_count": null,
   "id": "13775d07-354a-4bfd-950a-d81a80d397b3",
   "metadata": {},
   "outputs": [],
   "source": []
  },
  {
   "cell_type": "code",
   "execution_count": null,
   "id": "76aeef1c-ce8c-4dd9-87e0-c44ab10cda61",
   "metadata": {},
   "outputs": [],
   "source": []
  },
  {
   "cell_type": "code",
   "execution_count": null,
   "id": "8bb8104f-47ba-4952-88ae-257911d582f3",
   "metadata": {},
   "outputs": [],
   "source": []
  },
  {
   "cell_type": "code",
   "execution_count": null,
   "id": "7f878c5d-2055-4a0d-9319-579e843b4162",
   "metadata": {},
   "outputs": [],
   "source": []
  },
  {
   "cell_type": "code",
   "execution_count": null,
   "id": "09e0846e-e205-4331-8176-9d860b130a3c",
   "metadata": {},
   "outputs": [],
   "source": []
  },
  {
   "cell_type": "code",
   "execution_count": null,
   "id": "2cec1a99-0444-40f2-833c-e0a160d95fda",
   "metadata": {},
   "outputs": [],
   "source": []
  },
  {
   "cell_type": "code",
   "execution_count": null,
   "id": "8922a2b8-bd61-440e-aff5-f72fe1aa086e",
   "metadata": {},
   "outputs": [],
   "source": []
  },
  {
   "cell_type": "code",
   "execution_count": null,
   "id": "4c2fb22d-bf2e-447c-ba53-84546d9c1225",
   "metadata": {},
   "outputs": [],
   "source": []
  },
  {
   "cell_type": "code",
   "execution_count": null,
   "id": "6f5ddfb0-ea89-4119-b5ee-4811e2a2aaf0",
   "metadata": {},
   "outputs": [],
   "source": []
  },
  {
   "cell_type": "code",
   "execution_count": null,
   "id": "99bdcf7e-3638-468d-ab77-ceed9bf43a84",
   "metadata": {},
   "outputs": [],
   "source": []
  },
  {
   "cell_type": "code",
   "execution_count": null,
   "id": "92ab9aa0-029c-4f56-bba2-7c5f347b43e8",
   "metadata": {},
   "outputs": [],
   "source": []
  },
  {
   "cell_type": "code",
   "execution_count": null,
   "id": "26a98737-11bf-43b2-81f4-62d8dcc16380",
   "metadata": {},
   "outputs": [],
   "source": []
  },
  {
   "cell_type": "code",
   "execution_count": null,
   "id": "6541cf60-cde6-4fa0-b96f-8225cf920b18",
   "metadata": {},
   "outputs": [],
   "source": []
  },
  {
   "cell_type": "code",
   "execution_count": null,
   "id": "2fb5e1a3-8508-4ec6-9957-7015717fe023",
   "metadata": {},
   "outputs": [],
   "source": []
  },
  {
   "cell_type": "code",
   "execution_count": null,
   "id": "1e73bcb7-6dd1-49f1-80a9-85d1b63e5c1c",
   "metadata": {},
   "outputs": [],
   "source": []
  },
  {
   "cell_type": "code",
   "execution_count": null,
   "id": "3027c94d-eb16-44bb-9dce-e84076d0e695",
   "metadata": {},
   "outputs": [],
   "source": []
  },
  {
   "cell_type": "code",
   "execution_count": null,
   "id": "c2afbb2c-8f2b-4d19-b890-53fcf6e0c3a2",
   "metadata": {},
   "outputs": [],
   "source": []
  },
  {
   "cell_type": "code",
   "execution_count": null,
   "id": "399bb072-4901-40c8-baa6-d5fcefff8874",
   "metadata": {},
   "outputs": [],
   "source": []
  },
  {
   "cell_type": "code",
   "execution_count": null,
   "id": "1e391a79-dbdd-47ef-ba9f-0151925a3119",
   "metadata": {},
   "outputs": [],
   "source": []
  },
  {
   "cell_type": "code",
   "execution_count": null,
   "id": "6ec22d75-fb0c-4506-b7d0-5bdb925dac4d",
   "metadata": {},
   "outputs": [],
   "source": []
  },
  {
   "cell_type": "code",
   "execution_count": null,
   "id": "15fd5546-d957-4052-9fa0-cf6463e23ab8",
   "metadata": {},
   "outputs": [],
   "source": []
  },
  {
   "cell_type": "code",
   "execution_count": null,
   "id": "9e77cd5f-e545-467e-a094-df921a2aef4a",
   "metadata": {},
   "outputs": [],
   "source": []
  },
  {
   "cell_type": "code",
   "execution_count": null,
   "id": "3610aaa3-ed41-4408-a8c1-d5402fe75e7d",
   "metadata": {},
   "outputs": [],
   "source": []
  },
  {
   "cell_type": "code",
   "execution_count": null,
   "id": "3bdf3445-881e-4238-975b-f6c11252d866",
   "metadata": {},
   "outputs": [],
   "source": []
  },
  {
   "cell_type": "code",
   "execution_count": null,
   "id": "36fc3482-b233-42d5-93b2-c5c20f79a39b",
   "metadata": {},
   "outputs": [],
   "source": []
  },
  {
   "cell_type": "code",
   "execution_count": null,
   "id": "ed3a3af0-3233-476e-bf17-64be25600358",
   "metadata": {},
   "outputs": [],
   "source": []
  },
  {
   "cell_type": "code",
   "execution_count": null,
   "id": "701aa92d-4b36-4693-a1b1-77427694775e",
   "metadata": {},
   "outputs": [],
   "source": []
  },
  {
   "cell_type": "code",
   "execution_count": null,
   "id": "b79bcc86-7d45-4718-9845-4ed653aff216",
   "metadata": {},
   "outputs": [],
   "source": []
  },
  {
   "cell_type": "code",
   "execution_count": null,
   "id": "acfacd7e-c09a-4141-8210-f2614d1b4718",
   "metadata": {},
   "outputs": [],
   "source": []
  },
  {
   "cell_type": "code",
   "execution_count": null,
   "id": "fc109511-8fda-4b09-a10e-e340df95c6c7",
   "metadata": {},
   "outputs": [],
   "source": []
  },
  {
   "cell_type": "code",
   "execution_count": null,
   "id": "ce422e6e-1dc5-48e4-9183-cd2b7b3411fb",
   "metadata": {},
   "outputs": [],
   "source": []
  },
  {
   "cell_type": "code",
   "execution_count": null,
   "id": "ed14baaa-dad2-47a0-9f4c-c5862905646c",
   "metadata": {},
   "outputs": [],
   "source": []
  },
  {
   "cell_type": "code",
   "execution_count": null,
   "id": "546b069d-e73e-4fda-bed6-5a1949db14dd",
   "metadata": {},
   "outputs": [],
   "source": []
  },
  {
   "cell_type": "code",
   "execution_count": null,
   "id": "d5e7ecfc-350a-4abd-aa69-7f71104be71b",
   "metadata": {},
   "outputs": [],
   "source": []
  },
  {
   "cell_type": "code",
   "execution_count": null,
   "id": "89c7f4ff-beb2-4656-a048-7fc217c088a4",
   "metadata": {},
   "outputs": [],
   "source": []
  },
  {
   "cell_type": "code",
   "execution_count": null,
   "id": "7ebe1685-b2a8-488b-8844-e886ac72c659",
   "metadata": {},
   "outputs": [],
   "source": []
  },
  {
   "cell_type": "code",
   "execution_count": null,
   "id": "0b448bd6-bde4-42f9-8717-05c6cef8a132",
   "metadata": {},
   "outputs": [],
   "source": []
  },
  {
   "cell_type": "code",
   "execution_count": null,
   "id": "109f591e-5bb8-476a-be21-a7a194ef7e60",
   "metadata": {},
   "outputs": [],
   "source": []
  },
  {
   "cell_type": "code",
   "execution_count": null,
   "id": "315ad717-f32c-4cfc-b477-b6c39644e7a8",
   "metadata": {},
   "outputs": [],
   "source": []
  },
  {
   "cell_type": "code",
   "execution_count": null,
   "id": "835e2c74-7923-47a1-9631-78f7864a9ed3",
   "metadata": {},
   "outputs": [],
   "source": []
  },
  {
   "cell_type": "code",
   "execution_count": null,
   "id": "6e721b64-51f8-406e-8d46-4ddc6506ffbc",
   "metadata": {},
   "outputs": [],
   "source": []
  },
  {
   "cell_type": "code",
   "execution_count": null,
   "id": "0c54f81f-0e0b-446e-a416-ed426b2eaa70",
   "metadata": {},
   "outputs": [],
   "source": []
  },
  {
   "cell_type": "code",
   "execution_count": null,
   "id": "1ccb08a1-7f96-4333-b680-8f95a60035d6",
   "metadata": {},
   "outputs": [],
   "source": []
  },
  {
   "cell_type": "code",
   "execution_count": null,
   "id": "5721d490-e33f-439d-a42c-9555c8ed54c7",
   "metadata": {},
   "outputs": [],
   "source": []
  },
  {
   "cell_type": "code",
   "execution_count": null,
   "id": "4fb9cf56-8722-4091-8851-bc8267ed2638",
   "metadata": {},
   "outputs": [],
   "source": []
  },
  {
   "cell_type": "code",
   "execution_count": null,
   "id": "775ceed3-baa8-4109-aaab-a5650a6c0415",
   "metadata": {},
   "outputs": [],
   "source": []
  },
  {
   "cell_type": "code",
   "execution_count": null,
   "id": "19c8ca1e-a2d1-4270-89d2-1e9335792c8c",
   "metadata": {},
   "outputs": [],
   "source": []
  },
  {
   "cell_type": "code",
   "execution_count": null,
   "id": "05aa81f5-1c34-4bb1-a34c-97d2ce259c90",
   "metadata": {},
   "outputs": [],
   "source": []
  },
  {
   "cell_type": "code",
   "execution_count": null,
   "id": "609701c2-0c02-44e8-bfd3-4c8e775747dd",
   "metadata": {},
   "outputs": [],
   "source": []
  },
  {
   "cell_type": "code",
   "execution_count": null,
   "id": "96fd647b-c3f8-43f8-87e1-54ea9bca30d1",
   "metadata": {},
   "outputs": [],
   "source": []
  },
  {
   "cell_type": "code",
   "execution_count": null,
   "id": "5ca0c831-bd2c-4c61-a220-75938ef14721",
   "metadata": {},
   "outputs": [],
   "source": []
  },
  {
   "cell_type": "code",
   "execution_count": null,
   "id": "87d03957-0710-40ae-a19b-08ce5275ebfa",
   "metadata": {},
   "outputs": [],
   "source": []
  },
  {
   "cell_type": "code",
   "execution_count": null,
   "id": "58227dba-c1f0-472e-b7cf-f1d7fbba0121",
   "metadata": {},
   "outputs": [],
   "source": []
  },
  {
   "cell_type": "code",
   "execution_count": null,
   "id": "71baaf49-700c-4f30-b594-89ff5e26327b",
   "metadata": {},
   "outputs": [],
   "source": []
  },
  {
   "cell_type": "code",
   "execution_count": null,
   "id": "f293176f-f47b-4748-9709-a7e572ba94df",
   "metadata": {},
   "outputs": [],
   "source": []
  },
  {
   "cell_type": "code",
   "execution_count": null,
   "id": "4f8b6e3d-f069-45dd-a82a-57b38f32a038",
   "metadata": {},
   "outputs": [],
   "source": []
  },
  {
   "cell_type": "code",
   "execution_count": null,
   "id": "e4417db8-63ad-47f1-9120-bfdf359a4e25",
   "metadata": {},
   "outputs": [],
   "source": []
  },
  {
   "cell_type": "code",
   "execution_count": null,
   "id": "b2086d8b-f909-4626-aa8e-55eefc575516",
   "metadata": {},
   "outputs": [],
   "source": []
  },
  {
   "cell_type": "code",
   "execution_count": null,
   "id": "19f813e3-153a-419a-b255-b763b66014bd",
   "metadata": {},
   "outputs": [],
   "source": []
  },
  {
   "cell_type": "code",
   "execution_count": null,
   "id": "7076091d-22b0-458a-bf94-d59ce9858677",
   "metadata": {},
   "outputs": [],
   "source": []
  },
  {
   "cell_type": "code",
   "execution_count": null,
   "id": "668a219e-16c6-41c0-92ac-7668ebb3c239",
   "metadata": {},
   "outputs": [],
   "source": []
  },
  {
   "cell_type": "code",
   "execution_count": null,
   "id": "6a547565-fcca-438b-ae49-bba2de6d4c12",
   "metadata": {},
   "outputs": [],
   "source": []
  },
  {
   "cell_type": "code",
   "execution_count": null,
   "id": "f1110c90-9b10-47d2-b829-3abd2ba90787",
   "metadata": {},
   "outputs": [],
   "source": []
  },
  {
   "cell_type": "code",
   "execution_count": null,
   "id": "73012593-4641-49a6-a88d-31f0710b0efc",
   "metadata": {},
   "outputs": [],
   "source": []
  },
  {
   "cell_type": "code",
   "execution_count": null,
   "id": "b0db4fdf-9173-4df2-9432-74e7fd396147",
   "metadata": {},
   "outputs": [],
   "source": []
  },
  {
   "cell_type": "code",
   "execution_count": null,
   "id": "af4265b1-44b3-4716-90aa-4779292baf8e",
   "metadata": {},
   "outputs": [],
   "source": []
  },
  {
   "cell_type": "code",
   "execution_count": null,
   "id": "37492951-9fbc-414d-80af-7f49be99c7ca",
   "metadata": {},
   "outputs": [],
   "source": []
  },
  {
   "cell_type": "code",
   "execution_count": null,
   "id": "3aeb3067-735b-4b4d-a21b-d5e23e014d59",
   "metadata": {},
   "outputs": [],
   "source": []
  },
  {
   "cell_type": "code",
   "execution_count": null,
   "id": "8d036ad4-8d9a-4f7e-a517-6033f30371f5",
   "metadata": {},
   "outputs": [],
   "source": []
  },
  {
   "cell_type": "code",
   "execution_count": null,
   "id": "b07a8b51-eeff-4efc-ab2a-774c634588f8",
   "metadata": {},
   "outputs": [],
   "source": []
  },
  {
   "cell_type": "code",
   "execution_count": null,
   "id": "f02e8a07-4bc4-4a3c-a164-f4d7613a8687",
   "metadata": {},
   "outputs": [],
   "source": []
  },
  {
   "cell_type": "code",
   "execution_count": null,
   "id": "e98a67bf-408b-4796-a184-bd5d49999f39",
   "metadata": {},
   "outputs": [],
   "source": []
  },
  {
   "cell_type": "code",
   "execution_count": null,
   "id": "71b71196-1665-4a8a-a2eb-380bb51d1ed4",
   "metadata": {},
   "outputs": [],
   "source": []
  },
  {
   "cell_type": "code",
   "execution_count": null,
   "id": "51248935-9770-40ea-b25a-ba83377f70e0",
   "metadata": {},
   "outputs": [],
   "source": []
  },
  {
   "cell_type": "code",
   "execution_count": null,
   "id": "c3093be8-0d0d-413d-828c-76a30ca725de",
   "metadata": {},
   "outputs": [],
   "source": []
  },
  {
   "cell_type": "code",
   "execution_count": null,
   "id": "5d70753a-7edd-4665-b41a-a79bc0d55a3a",
   "metadata": {},
   "outputs": [],
   "source": []
  },
  {
   "cell_type": "code",
   "execution_count": null,
   "id": "3a9902da-8f01-4a1d-a374-8f8c350eeb1d",
   "metadata": {},
   "outputs": [],
   "source": []
  },
  {
   "cell_type": "code",
   "execution_count": null,
   "id": "0e069ed1-d2b3-46a9-999b-f7564e676049",
   "metadata": {},
   "outputs": [],
   "source": []
  },
  {
   "cell_type": "code",
   "execution_count": null,
   "id": "59196895-96c8-4bbb-b059-b2e3f2d1e5ff",
   "metadata": {},
   "outputs": [],
   "source": []
  },
  {
   "cell_type": "code",
   "execution_count": null,
   "id": "d26b671c-bbff-4fa8-be6b-32636a5b600a",
   "metadata": {},
   "outputs": [],
   "source": []
  },
  {
   "cell_type": "code",
   "execution_count": null,
   "id": "deaf388f-f1b4-4982-9a3b-28146dafdaab",
   "metadata": {},
   "outputs": [],
   "source": []
  },
  {
   "cell_type": "code",
   "execution_count": null,
   "id": "c6169283-4a98-4e49-b3c2-8c849d73fc1e",
   "metadata": {},
   "outputs": [],
   "source": []
  },
  {
   "cell_type": "code",
   "execution_count": null,
   "id": "c76b0793-bf63-400b-ae32-6917e0bb9f0a",
   "metadata": {},
   "outputs": [],
   "source": []
  },
  {
   "cell_type": "code",
   "execution_count": null,
   "id": "9e4d1b51-cea9-40ad-81bf-155c0565f86e",
   "metadata": {},
   "outputs": [],
   "source": []
  },
  {
   "cell_type": "code",
   "execution_count": null,
   "id": "37e99104-9e01-4629-834a-3ef9a295d6ba",
   "metadata": {},
   "outputs": [],
   "source": []
  },
  {
   "cell_type": "code",
   "execution_count": null,
   "id": "6ea530d4-0919-430c-826b-622b198ff03d",
   "metadata": {},
   "outputs": [],
   "source": []
  },
  {
   "cell_type": "code",
   "execution_count": null,
   "id": "037670a7-8036-47d8-b8f7-c75d03adf117",
   "metadata": {},
   "outputs": [],
   "source": []
  },
  {
   "cell_type": "markdown",
   "id": "afcc2388-dcff-44ef-ab16-dc3bcc881be7",
   "metadata": {},
   "source": []
  },
  {
   "cell_type": "code",
   "execution_count": null,
   "id": "91288157-d839-47d2-b044-d48292657952",
   "metadata": {},
   "outputs": [],
   "source": []
  },
  {
   "cell_type": "code",
   "execution_count": null,
   "id": "8f7c84a2-b4a7-4177-9aaf-c4cadad042b3",
   "metadata": {},
   "outputs": [],
   "source": []
  },
  {
   "cell_type": "code",
   "execution_count": null,
   "id": "5c6df77c-772c-4234-b543-a2db0c8302f1",
   "metadata": {},
   "outputs": [],
   "source": []
  },
  {
   "cell_type": "code",
   "execution_count": null,
   "id": "d79ea7df-9cd7-4bd8-8c7d-38e0267fe570",
   "metadata": {},
   "outputs": [],
   "source": []
  },
  {
   "cell_type": "code",
   "execution_count": null,
   "id": "13d5032d-d307-4583-baad-edf55e510d6c",
   "metadata": {},
   "outputs": [],
   "source": []
  },
  {
   "cell_type": "code",
   "execution_count": null,
   "id": "7e667140-bd0e-45eb-aa69-f98173f04791",
   "metadata": {},
   "outputs": [],
   "source": []
  },
  {
   "cell_type": "code",
   "execution_count": null,
   "id": "a0b66d69-a94c-4e9d-aa5d-52d8b93f19d7",
   "metadata": {},
   "outputs": [],
   "source": []
  },
  {
   "cell_type": "code",
   "execution_count": null,
   "id": "c2790cb5-3974-4408-a25d-5bd913b2cea4",
   "metadata": {},
   "outputs": [],
   "source": []
  },
  {
   "cell_type": "code",
   "execution_count": null,
   "id": "e2858ac9-adfb-4b89-b402-cc8cadd0794a",
   "metadata": {},
   "outputs": [],
   "source": []
  },
  {
   "cell_type": "code",
   "execution_count": null,
   "id": "d0fe7d70-4dc8-41dc-9ecb-cd44ee5493f4",
   "metadata": {},
   "outputs": [],
   "source": []
  },
  {
   "cell_type": "code",
   "execution_count": null,
   "id": "671b47b5-bfbe-4698-a1a4-a34e67b1dc76",
   "metadata": {},
   "outputs": [],
   "source": []
  },
  {
   "cell_type": "code",
   "execution_count": null,
   "id": "12ab2fd6-2f87-4c1e-8ebb-2c4a4ae82f8a",
   "metadata": {},
   "outputs": [],
   "source": []
  },
  {
   "cell_type": "code",
   "execution_count": null,
   "id": "ee67df7f-c834-40d2-938a-d8c903cf847a",
   "metadata": {},
   "outputs": [],
   "source": []
  },
  {
   "cell_type": "code",
   "execution_count": null,
   "id": "41f041b1-d4cc-4ad2-bb06-e301b3784b37",
   "metadata": {},
   "outputs": [],
   "source": []
  }
 ],
 "metadata": {
  "kernelspec": {
   "display_name": "Python 3 (ipykernel)",
   "language": "python",
   "name": "python3"
  },
  "language_info": {
   "codemirror_mode": {
    "name": "ipython",
    "version": 3
   },
   "file_extension": ".py",
   "mimetype": "text/x-python",
   "name": "python",
   "nbconvert_exporter": "python",
   "pygments_lexer": "ipython3",
   "version": "3.12.2"
  }
 },
 "nbformat": 4,
 "nbformat_minor": 5
}
